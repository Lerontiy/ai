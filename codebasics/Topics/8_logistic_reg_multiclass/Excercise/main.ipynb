{
 "cells": [
  {
   "cell_type": "code",
   "execution_count": 79,
   "metadata": {},
   "outputs": [
    {
     "name": "stderr",
     "output_type": "stream",
     "text": [
      "ic| iter: 8\n",
      "ic| y_pred.sum(): 29.06122086019942, y.sum(): 29\n",
      "ic| mymodel.myscore(x_test, y_test): 0.997893383058684\n",
      "ic| y_pred.sum(): 28.348779387907477, y_test.sum(): 29\n",
      "ic| myscore_of_linearreg: 0.9775441168243958\n"
     ]
    },
    {
     "data": {
      "text/plain": [
       "0.9775441168243958"
      ]
     },
     "execution_count": 79,
     "metadata": {},
     "output_type": "execute_result"
    }
   ],
   "source": [
    "import numpy as np\n",
    "import math\n",
    "from icecream import ic\n",
    "from sklearn.datasets import load_iris\n",
    "from sklearn.model_selection import train_test_split\n",
    "from sklearn.linear_model import LinearRegression\n",
    "\n",
    "class GradientDescent:\n",
    "    def __init__(self):\n",
    "        self.coef_ = np.array([0])\n",
    "        self.intercept_ = 0\n",
    "        self.learning_rate = (1 * 10**-4)\n",
    "\n",
    "    def fit(self, x : np.ndarray, y):\n",
    "        self.coef_ = np.array([0] * len(x[0]))\n",
    "        #ic(self.coef_)\n",
    "        self.intercept_ = 0\n",
    "        n = len(x)\n",
    "        learning_rate = self.learning_rate\n",
    "        cost_prev = cost_curr = 0\n",
    "        iter = 0\n",
    "\n",
    "        while not math.isclose(cost_prev, cost_curr, rel_tol=self.learning_rate) or iter==0:\n",
    "            cost_prev = cost_curr\n",
    "\n",
    "            y_predicted: np.ndarray = (self.coef_ * x).sum(axis=1) + self.intercept_ \n",
    "\n",
    "            new_y: np.ndarray = y-y_predicted\n",
    "\n",
    "            cost_curr = (1/n) * sum(abs(new_y))\n",
    "            md = -(1/n) * (x.sum(axis=0) * new_y.sum())\n",
    "            \n",
    "            bd = -(1/n) * new_y.sum()\n",
    "\n",
    "            self.coef_ = self.coef_ - md*learning_rate\n",
    "            self.intercept_ =  self.intercept_ - bd*learning_rate\n",
    "\n",
    "            iter += 1\n",
    "        #ic(cost_curr)\n",
    "        ic(iter)\n",
    "\n",
    "\n",
    "    def predict(self, x):\n",
    "        #ic(self.coef_)\n",
    "        return (self.coef_ * x).sum(axis=1) + self.intercept_\n",
    "\n",
    "    def myscore(self, x, y : np.ndarray):\n",
    "        y_pred: np.ndarray = self.predict(x)\n",
    "\n",
    "        ic(y_pred.sum(), y.sum())\n",
    "        if y.sum() == 0:\n",
    "            x2 = (1 * 10**-9)\n",
    "        else:\n",
    "            x2 = y.sum()\n",
    "\n",
    "        myscore_of_mylinearreg = y_pred.sum() / x2\n",
    "        if myscore_of_mylinearreg > 1:\n",
    "            myscore_of_mylinearreg = 1 / myscore_of_mylinearreg \n",
    "\n",
    "        return myscore_of_mylinearreg\n",
    "    \n",
    "iris = load_iris()\n",
    "\n",
    "x_train, x_test, y_train, y_test = train_test_split(iris.data, iris.target, test_size=0.2) # type: ignore\n",
    "\n",
    "\n",
    "mymodel = GradientDescent()\n",
    "mymodel.fit(x_train, y_train)\n",
    "#ic(model.coef_, model.intercept_)\n",
    "ic(mymodel.myscore(x_test, y_test))\n",
    "\n",
    "model = LinearRegression()\n",
    "model.fit(x_train, y_train)\n",
    "#ic(model.coef_, model.intercept_)\n",
    "y_pred = model.predict(x_test)\n",
    "#ic(model.score(x_test, y_test))\n",
    "ic(y_pred.sum(), y_test.sum())\n",
    "if y_test.sum() == 0:\n",
    "    x2 = (1 * 10**-9)\n",
    "else:\n",
    "    x2 = y_test.sum()\n",
    "\n",
    "myscore_of_linearreg = y_pred.sum() / x2\n",
    "if myscore_of_linearreg > 1:\n",
    "    myscore_of_linearreg = 1 / myscore_of_linearreg \n",
    "\n",
    "ic(myscore_of_linearreg)"
   ]
  },
  {
   "cell_type": "code",
   "execution_count": 34,
   "metadata": {},
   "outputs": [
    {
     "name": "stdout",
     "output_type": "stream",
     "text": [
      "[[ 6]\n",
      " [12]\n",
      " [12]\n",
      " [ 6]]\n"
     ]
    }
   ],
   "source": [
    "s = np.array([[[1, 2, 3]], [[3, 4, 5]], [[3, 4, 5]], [[1, 2, 3]]])\n",
    "\n",
    "print(s.sum(axis=-1))"
   ]
  },
  {
   "cell_type": "code",
   "execution_count": null,
   "metadata": {},
   "outputs": [],
   "source": [
    "x1 = np.array([1, 2, 3, 4])\n",
    "x2 = np.array([[2, 2, 2, 2], [1, 1, 1, 1]])\n",
    "x3 = 1\n",
    "\n",
    "ic(np.array([sum(x1 * arr) + x3 for arr in x2]) )"
   ]
  },
  {
   "cell_type": "code",
   "execution_count": null,
   "metadata": {},
   "outputs": [],
   "source": [
    "import joblib\n",
    "\n",
    "joblib.dump(model, \"iris_disting_model\")"
   ]
  },
  {
   "cell_type": "code",
   "execution_count": null,
   "metadata": {},
   "outputs": [],
   "source": [
    "(-0.1556752 * 4.9) + (-0.00268238 * 3) + (0.27258945 * 1.4) + (0.56785388 * 0.2)  + 0.22505489341070428"
   ]
  },
  {
   "cell_type": "code",
   "execution_count": null,
   "metadata": {},
   "outputs": [],
   "source": [
    "import joblib\n",
    "from sklearn.linear_model import LinearRegression\n",
    "from sklearn.datasets import load_iris\n",
    "\n",
    "model: LinearRegression = joblib.load(\"iris_disting_model\") \n",
    "\n",
    "\n",
    "iris = load_iris()\n",
    "\n",
    "iris_name_coef = model.predict(np.array([[4.9, 3, 1.4, 0.2]]))[0]\n",
    "\n",
    "ic(iris.target_names[round(iris_name_coef)], iris_name_coef)"
   ]
  }
 ],
 "metadata": {
  "kernelspec": {
   "display_name": "venv",
   "language": "python",
   "name": "python3"
  },
  "language_info": {
   "codemirror_mode": {
    "name": "ipython",
    "version": 3
   },
   "file_extension": ".py",
   "mimetype": "text/x-python",
   "name": "python",
   "nbconvert_exporter": "python",
   "pygments_lexer": "ipython3",
   "version": "3.12.3"
  }
 },
 "nbformat": 4,
 "nbformat_minor": 2
}
