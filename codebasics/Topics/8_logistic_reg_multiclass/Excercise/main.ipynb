{
 "cells": [
  {
   "cell_type": "code",
   "execution_count": 31,
   "metadata": {},
   "outputs": [
    {
     "name": "stderr",
     "output_type": "stream",
     "text": [
      "ic| model.score(x_test, y_test): 0.8662481360946324\n",
      "ic| 100 / y_test.mean() * y_pred.mean(): 100.84730402138624\n"
     ]
    },
    {
     "data": {
      "text/plain": [
       "100.84730402138624"
      ]
     },
     "execution_count": 31,
     "metadata": {},
     "output_type": "execute_result"
    }
   ],
   "source": [
    "import numpy as np\n",
    "from icecream import ic\n",
    "from sklearn.datasets import load_iris\n",
    "from sklearn.model_selection import train_test_split\n",
    "from sklearn.linear_model import LinearRegression\n",
    "\n",
    "class GradientDescent:\n",
    "    def __init__(self):\n",
    "        self.coef_ = np.array([0])\n",
    "        self.intercept_ = 0\n",
    "\n",
    "    def fit(self, x : np.ndarray, y):\n",
    "        self.coef_ = np.array([0] * len(x[0]))\n",
    "        #ic(self.coef_)\n",
    "        self.intercept_ = 0\n",
    "        n = len(x)\n",
    "        learning_rate = 0.001\n",
    "        cost_prev = 1\n",
    "        cost_curr = 0\n",
    "        iter = 0\n",
    "\n",
    "        while cost_curr!=cost_prev:\n",
    "            cost_prev = cost_curr\n",
    "\n",
    "            #ic(self.coef_, x.sum(axis=-1))\n",
    "\n",
    "            y_predicted: np.ndarray = (self.coef_ * x).sum(axis=1) + self.intercept_ \n",
    "            #ic(y_predicted)\n",
    "\n",
    "            new_y: np.ndarray = y-y_predicted\n",
    "\n",
    "            cost_curr = (1/n) * sum(abs(new_y))\n",
    "            #ic(cost_curr)\n",
    "            #ic(new_y.sum())\n",
    "            md = -(1/n) * (x.sum(axis=0) * new_y.sum())\n",
    "            \n",
    "            bd = -(1/n) * new_y.sum()\n",
    "\n",
    "            #print(self.coef_ - md*learning_rate)\n",
    "            #ic(self.coef_, md)\n",
    "\n",
    "            #ic(self.coef_, md)\n",
    "            #ic(self.coef_)\n",
    "            self.coef_ = self.coef_ - md*learning_rate\n",
    "            #ic(self.coef_)\n",
    "            #ic(self.intercept_)\n",
    "            self.intercept_ =  self.intercept_ - bd*learning_rate\n",
    "\n",
    "            iter += 1\n",
    "        #ic(cost_curr)\n",
    "        #ic(iter)\n",
    "\n",
    "\n",
    "    def predict(self, x):\n",
    "        #ic(self.coef_)\n",
    "        return (self.coef_ * x).sum(axis=1) + self.intercept_\n",
    "\n",
    "    def score(self, x, y : np.ndarray):\n",
    "        y_score: np.ndarray = self.predict(x)\n",
    "        #ic(len(y_score))\n",
    "\n",
    "        for i in range(len(y)):\n",
    "            if y_score[i] > y[i]:\n",
    "                #ic(y_score[i])\n",
    "                y_score[i] = abs(y_score[i] - y[i])\n",
    "                #ic(y_score[i])\n",
    "\n",
    "        #ic(y)\n",
    "        #return sum(ic(100 / (y)) * y_score) / len(y)\n",
    "        return y.mean() / 100 * abs(y_score.mean()-y.mean())\n",
    "    \n",
    "iris = load_iris()\n",
    "\n",
    "#ic.ic(dir(iris))\n",
    "#print(iris.data[0], iris.target[0])\n",
    "\n",
    "x_train, x_test, y_train, y_test = train_test_split(iris.data, iris.target, test_size=0.2) # type: ignore\n",
    "\n",
    "#ic.ic(iris.feature_names, iris.target_names)\n",
    "#for i in range(1, 150, 25):\n",
    "    #ic.ic(iris.data[i], iris.target[i])\n",
    "    #print(x_train[i], y_train[i])\n",
    "\n",
    "#model = GradientDescent()\n",
    "#model.fit(x_train, y_train)\n",
    "#ic(model.predict(x_test).mean())\n",
    "#ic(model.coef_, model.intercept_)\n",
    "#ic(model.score(x_test, y_test))\n",
    "\n",
    "model = LinearRegression()\n",
    "model.fit(x_train, y_train)\n",
    "#ic(model.coef_, model.intercept_)\n",
    "y_pred = model.predict(x_test)\n",
    "ic(model.score(x_test, y_test))\n",
    "#ic(model.predict(x_test).mean())\n",
    "#ic(abs(-7*1))\n",
    "#test_minus_predict_mean = y_test.mean() - (model.predict(x_test).mean())\n",
    "#ic(test_minus_predict_mean)\n",
    "#ic(test_mean)\n",
    "#ic(100 / test_mean * abs(test_minus_predict_mean))\n",
    "ic(100 / y_test.mean() * y_pred.mean())\n",
    "#ic((x_test * model.coef_).sum(axis=1) + model.intercept_, y_test)\n"
   ]
  },
  {
   "cell_type": "code",
   "execution_count": 34,
   "metadata": {},
   "outputs": [
    {
     "name": "stdout",
     "output_type": "stream",
     "text": [
      "[[ 6]\n",
      " [12]\n",
      " [12]\n",
      " [ 6]]\n"
     ]
    }
   ],
   "source": [
    "s = np.array([[[1, 2, 3]], [[3, 4, 5]], [[3, 4, 5]], [[1, 2, 3]]])\n",
    "\n",
    "print(s.sum(axis=-1))"
   ]
  },
  {
   "cell_type": "code",
   "execution_count": null,
   "metadata": {},
   "outputs": [],
   "source": [
    "x1 = np.array([1, 2, 3, 4])\n",
    "x2 = np.array([[2, 2, 2, 2], [1, 1, 1, 1]])\n",
    "x3 = 1\n",
    "\n",
    "ic(np.array([sum(x1 * arr) + x3 for arr in x2]) )"
   ]
  },
  {
   "cell_type": "code",
   "execution_count": null,
   "metadata": {},
   "outputs": [],
   "source": [
    "import joblib\n",
    "\n",
    "joblib.dump(model, \"iris_disting_model\")"
   ]
  },
  {
   "cell_type": "code",
   "execution_count": null,
   "metadata": {},
   "outputs": [],
   "source": [
    "(-0.1556752 * 4.9) + (-0.00268238 * 3) + (0.27258945 * 1.4) + (0.56785388 * 0.2)  + 0.22505489341070428"
   ]
  },
  {
   "cell_type": "code",
   "execution_count": null,
   "metadata": {},
   "outputs": [],
   "source": [
    "import joblib\n",
    "from sklearn.linear_model import LinearRegression\n",
    "from sklearn.datasets import load_iris\n",
    "\n",
    "model: LinearRegression = joblib.load(\"iris_disting_model\") \n",
    "\n",
    "\n",
    "iris = load_iris()\n",
    "\n",
    "iris_name_coef = model.predict(np.array([[4.9, 3, 1.4, 0.2]]))[0]\n",
    "\n",
    "ic(iris.target_names[round(iris_name_coef)], iris_name_coef)"
   ]
  }
 ],
 "metadata": {
  "kernelspec": {
   "display_name": "venv",
   "language": "python",
   "name": "python3"
  },
  "language_info": {
   "codemirror_mode": {
    "name": "ipython",
    "version": 3
   },
   "file_extension": ".py",
   "mimetype": "text/x-python",
   "name": "python",
   "nbconvert_exporter": "python",
   "pygments_lexer": "ipython3",
   "version": "3.12.0"
  }
 },
 "nbformat": 4,
 "nbformat_minor": 2
}
