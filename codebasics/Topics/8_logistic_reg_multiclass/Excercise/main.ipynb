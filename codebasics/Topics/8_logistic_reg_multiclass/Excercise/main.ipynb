{
 "cells": [
  {
   "cell_type": "code",
   "execution_count": 31,
   "metadata": {},
   "outputs": [
    {
     "name": "stderr",
     "output_type": "stream",
     "text": [
      "ic| iter: 20\n"
     ]
    },
    {
     "name": "stdout",
     "output_type": "stream",
     "text": [
      "mymodel.score() 0.3723962776490626\n",
      "model.score() 0.9248104220774903\n"
     ]
    }
   ],
   "source": [
    "import numpy as np\n",
    "import math\n",
    "from icecream import ic\n",
    "from sklearn.datasets import load_iris\n",
    "from sklearn.model_selection import train_test_split\n",
    "from sklearn.linear_model import LogisticRegression, LinearRegression\n",
    "\n",
    "class GradientDescent(LinearRegression):\n",
    "    def __init__(self):\n",
    "        self.coef_ = np.array([0])\n",
    "        self.intercept_ = 0\n",
    "        self.learning_rate = 0.0001\n",
    "\n",
    "    def fit(self, x: np.ndarray, y: np.ndarray):\n",
    "        self.coef_ = 0 \n",
    "        self.intercept_ = 0 \n",
    "        n = len(x)\n",
    "        learning_rate = self.learning_rate\n",
    "        cost_prev = cost_curr = 0\n",
    "        iter = 0\n",
    "\n",
    "        while not math.isclose(cost_prev, cost_curr, rel_tol=(1 * 10**(-10))) or iter==0:\n",
    "            cost_prev = cost_curr\n",
    "\n",
    "            y_pred: np.ndarray = self.predict(x)\n",
    "            #y_predicted: np.ndarray = 1 / (1 + math.e**-((self.coef_ * x).sum(axis=1) + self.intercept_ ))\n",
    "\n",
    "            new_y: np.ndarray = y-y_pred\n",
    "\n",
    "            #cost_curr = sum(new_y**2) / (2*n)\n",
    "            cost_curr = sum(abs(y-y_pred)) / len(x)\n",
    "            #ic(new_y)\n",
    "            md = -(1/n) * (x.sum(axis=0)) * (new_y.sum())\n",
    "            \n",
    "            bd = -(1/n) * new_y.sum()\n",
    "\n",
    "            #ic(md, bd)\n",
    "\n",
    "            self.coef_ = self.coef_ - md*learning_rate\n",
    "            self.intercept_ =  self.intercept_ - bd*learning_rate\n",
    "\n",
    "            iter += 1\n",
    "        #ic(cost_curr)\n",
    "        ic(iter)\n",
    "\n",
    "    def predict(self, x):\n",
    "        return ((self.coef_ * x).sum(axis=1) + self.intercept_)\n",
    "\n",
    "\n",
    "    def myscore(self, x, y : np.ndarray):\n",
    "        y_pred: np.ndarray = self.predict(x)\n",
    "\n",
    "        #ic(1 - sum(abs(y-y_pred)) / (len(x)))\n",
    "        #1 - sum((y-y_pred)**2) / (2*len(x))\n",
    "\n",
    "        return 1 - sum(abs(y-y_pred)) / len(x)\n",
    "    \n",
    "    def confusion_matrix(self, y_test: list, y_pred):\n",
    "        y_test_sorted = sorted(set(y_test))\n",
    "\n",
    "        result = [[0 for j in range(len(y_test_sorted))] for i in range(len(y_test_sorted))]\n",
    "\n",
    "        def get_iter_el(el):\n",
    "            for sorted_iter, sorted_el in enumerate(y_test_sorted):\n",
    "                if sorted_el == el:\n",
    "                    return sorted_iter\n",
    "\n",
    "        for iter, el in enumerate(y_pred.copy()):\n",
    "            result[get_iter_el(y_test[iter])][get_iter_el(el)] += 1\n",
    "            \n",
    "\n",
    "        return np.array(result)\n",
    "\n",
    "    \n",
    "iris = load_iris()\n",
    "\n",
    "x_train, x_test, y_train, y_test = train_test_split(iris.data, iris.target, test_size=0.2) # type: ignore\n",
    "\n",
    "mymodel = GradientDescent()\n",
    "mymodel.fit(x_train, y_train)\n",
    "#ic(model.coef_, model.intercept_)\n",
    "#print(\"mymodel.myscore()\", mymodel.myscore(x_test, y_test))\n",
    "print(\"mymodel.score()\", mymodel.score(x_test, y_test))\n",
    "\n",
    "\n",
    "model = LinearRegression()\n",
    "model.fit(x_train, y_train)\n",
    "#ic(mymodel.coef_, mymodel.intercept_)\n",
    "#mymodel.coef_ = model.coef_\n",
    "#mymodel.intercept_ = model.intercept_\n",
    "#ic(mymodel.coef_, mymodel.intercept_)\n",
    "#print(\"model.myscore()\", mymodel.myscore(x_test, y_test))\n",
    "ic(model.predict(x_test))\n",
    "ic(model.coef_ * x_test + model.intercept_, x_test)\n",
    "#print(\"model.score()\", model.score(x_test, y_test))\n"
   ]
  },
  {
   "cell_type": "code",
   "execution_count": 34,
   "metadata": {},
   "outputs": [
    {
     "name": "stdout",
     "output_type": "stream",
     "text": [
      "Axes(0.125,0.11;0.62x0.77)\n"
     ]
    },
    {
     "data": {
      "image/png": "[encoded data removed]",
      "text/plain": [
       "<Figure size 640x480 with 2 Axes>"
      ]
     },
     "metadata": {},
     "output_type": "display_data"
    }
   ],
   "source": [
    "import seaborn as sb\n",
    "import matplotlib.pyplot as plt\n",
    "from sklearn.metrics import confusion_matrix\n",
    "\n",
    "y_pred = model.predict(x_test)\n",
    "#ic(y_test, y_pred)\n",
    "cm = confusion_matrix(y_test, y_pred.round())\n",
    "print(sb.heatmap(cm, annot=True))\n",
    "\n",
    "#ic(y_test, y_pred)"
   ]
  },
  {
   "cell_type": "code",
   "execution_count": null,
   "metadata": {},
   "outputs": [
    {
     "name": "stdout",
     "output_type": "stream",
     "text": [
      "Axes(0.125,0.11;0.62x0.77)\n"
     ]
    },
    {
     "data": {
      "image/png": "[encoded data removed]",
      "text/plain": [
       "<Figure size 640x480 with 2 Axes>"
      ]
     },
     "metadata": {},
     "output_type": "display_data"
    }
   ],
   "source": [
    "my_y_pred = mymodel.predict(x_test)\n",
    "#ic(y_test, my_y_pred)\n",
    "mycm = mymodel.confusion_matrix(y_test, my_y_pred.round())\n",
    "print(sb.heatmap(mycm, annot=True))"
   ]
  },
  {
   "cell_type": "code",
   "execution_count": null,
   "metadata": {},
   "outputs": [],
   "source": [
    "import joblib\n",
    "\n",
    "joblib.dump(model, \"iris_disting_model\")"
   ]
  },
  {
   "cell_type": "code",
   "execution_count": null,
   "metadata": {},
   "outputs": [
    {
     "name": "stderr",
     "output_type": "stream",
     "text": [
      "ic| iris.target_names[round(iris_name_coef)]: 'setosa'\n",
      "    iris_name_coef: 0\n"
     ]
    },
    {
     "data": {
      "text/plain": [
       "('setosa', 0)"
      ]
     },
     "execution_count": 5,
     "metadata": {},
     "output_type": "execute_result"
    }
   ],
   "source": [
    "import joblib\n",
    "from sklearn.linear_model import LinearRegression\n",
    "from sklearn.datasets import load_iris\n",
    "\n",
    "model: LinearRegression = joblib.load(\"iris_disting_model\") \n",
    "\n",
    "\n",
    "iris = load_iris()\n",
    "\n",
    "iris_name_coef = model.predict(np.array([[4.9, 3, 1.4, 0.2]]))[0]\n",
    "\n",
    "ic(iris.target_names[round(iris_name_coef)], iris_name_coef)"
   ]
  }
 ],
 "metadata": {
  "kernelspec": {
   "display_name": "venv",
   "language": "python",
   "name": "python3"
  },
  "language_info": {
   "codemirror_mode": {
    "name": "ipython",
    "version": 3
   },
   "file_extension": ".py",
   "mimetype": "text/x-python",
   "name": "python",
   "nbconvert_exporter": "python",
   "pygments_lexer": "ipython3",
   "version": "3.12.0"
  }
 },
 "nbformat": 4,
 "nbformat_minor": 2
}
