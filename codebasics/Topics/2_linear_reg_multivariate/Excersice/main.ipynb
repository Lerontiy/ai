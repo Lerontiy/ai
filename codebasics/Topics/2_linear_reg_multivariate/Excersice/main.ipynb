{
 "cells": [
  {
   "cell_type": "code",
   "execution_count": 4,
   "metadata": {},
   "outputs": [
    {
     "name": "stdout",
     "output_type": "stream",
     "text": [
      "[47056.91056911]\n",
      "[88227.64227642]\n"
     ]
    },
    {
     "name": "stderr",
     "output_type": "stream",
     "text": [
      "c:\\codes\\python\\ai\\codebasics\\venv\\Lib\\site-packages\\sklearn\\base.py:465: UserWarning: X does not have valid feature names, but LinearRegression was fitted with feature names\n",
      "  warnings.warn(\n",
      "c:\\codes\\python\\ai\\codebasics\\venv\\Lib\\site-packages\\sklearn\\base.py:465: UserWarning: X does not have valid feature names, but LinearRegression was fitted with feature names\n",
      "  warnings.warn(\n"
     ]
    }
   ],
   "source": [
    "import pandas as pd\n",
    "hiring_df = pd.read_csv(\"hiring.csv\")\n",
    "#print(hiring_df)\n",
    "from word2number import w2n\n",
    "for c in hiring_df.columns:\n",
    "    data_frame_column = hiring_df[[f\"{c}\"]]\n",
    "\n",
    "    i=0\n",
    "    while i < len(data_frame_column):\n",
    "        if type(data_frame_column.values[i][0])==str:\n",
    "            data_frame_column.values[i][0] = w2n.word_to_num(data_frame_column.values[i][0])\n",
    "\n",
    "        i+=1\n",
    "\n",
    "    hiring_df[[f\"{c}\"]] = data_frame_column\n",
    "    \n",
    "    #hiring_df[[f\"{c}\"]] = data_frame_column.fillna(data_frame_column.median())\n",
    "\n",
    "#print(hiring_df.median())\n",
    "\n",
    "hiring_df = hiring_df.fillna(hiring_df.median())\n",
    "\n",
    "\n",
    "#print(hiring_df)\n",
    "\n",
    "from sklearn import linear_model\n",
    "reg = linear_model.LinearRegression()\n",
    "\n",
    "#print(hiring_df)\n",
    "reg.fit(hiring_df[hiring_df.columns[0:-1]], hiring_df[hiring_df.columns[-1]])\n",
    "\n",
    "print(reg.predict([[2, 9, 6]])) \n",
    "print(reg.predict([[12, 10, 10]]))\n",
    "\n",
    "\n",
    "\n"
   ]
  }
 ],
 "metadata": {
  "kernelspec": {
   "display_name": "venv",
   "language": "python",
   "name": "python3"
  },
  "language_info": {
   "codemirror_mode": {
    "name": "ipython",
    "version": 3
   },
   "file_extension": ".py",
   "mimetype": "text/x-python",
   "name": "python",
   "nbconvert_exporter": "python",
   "pygments_lexer": "ipython3",
   "version": "3.12.0"
  }
 },
 "nbformat": 4,
 "nbformat_minor": 2
}
