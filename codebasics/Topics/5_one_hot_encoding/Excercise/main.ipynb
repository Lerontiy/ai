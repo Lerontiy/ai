{
 "cells": [
  {
   "cell_type": "code",
   "execution_count": 41,
   "metadata": {},
   "outputs": [
    {
     "name": "stdout",
     "output_type": "stream",
     "text": [
      "    Mileage  Sell Price($)  Age(yrs)  Audi A5  BMW X5\n",
      "0     69000          18000         6    False    True\n",
      "1     35000          34000         3    False    True\n",
      "2     57000          26100         5    False    True\n",
      "3     22500          40000         2    False    True\n",
      "4     46000          31500         4    False    True\n",
      "5     59000          29400         5     True   False\n",
      "6     52000          32000         5     True   False\n",
      "7     72000          19300         6     True   False\n",
      "8     91000          12000         8     True   False\n",
      "9     67000          22000         6    False   False\n",
      "10    83000          20000         7    False   False\n",
      "11    79000          21000         7    False   False\n",
      "12    59000          33000         5    False   False\n",
      "score: 0.9417050937281082\n",
      "[36991.31721061]\n",
      "[11080.74313219]\n"
     ]
    },
    {
     "name": "stderr",
     "output_type": "stream",
     "text": [
      "c:\\codes\\python\\ai\\codebasics\\venv\\Lib\\site-packages\\sklearn\\base.py:465: UserWarning: X does not have valid feature names, but LinearRegression was fitted with feature names\n",
      "  warnings.warn(\n",
      "c:\\codes\\python\\ai\\codebasics\\venv\\Lib\\site-packages\\sklearn\\base.py:465: UserWarning: X does not have valid feature names, but LinearRegression was fitted with feature names\n",
      "  warnings.warn(\n"
     ]
    }
   ],
   "source": [
    "import pandas as pd\n",
    "df = pd.read_csv(\"carprices.csv\")\n",
    "\n",
    "df = pd.concat([df, pd.get_dummies(df[df.columns[0]])], axis=\"columns\")\n",
    "df = df.drop([\"Car Model\", df.columns[-1]], axis=\"columns\")\n",
    "\n",
    "x = df.drop([\"Sell Price($)\"], axis=\"columns\")\n",
    "y = df[\"Sell Price($)\"]\n",
    "\n",
    "from sklearn.linear_model import LinearRegression\n",
    "m = LinearRegression()\n",
    "\n",
    "m.fit(x, y)\n",
    "\n",
    "print(df)\n",
    "\n",
    "print(\"score:\",m.score(x, y))\n",
    "print(m.predict([[45000, 4, 0, 0]])) # mercedez benz that is 4 yr old with mileage 45000\n",
    "print(m.predict([[86000, 7, 0, 1]])) # BMW X5 that is 7 yr old with mileage 86000"
   ]
  }
 ],
 "metadata": {
  "kernelspec": {
   "display_name": "venv",
   "language": "python",
   "name": "python3"
  },
  "language_info": {
   "codemirror_mode": {
    "name": "ipython",
    "version": 3
   },
   "file_extension": ".py",
   "mimetype": "text/x-python",
   "name": "python",
   "nbconvert_exporter": "python",
   "pygments_lexer": "ipython3",
   "version": "3.12.0"
  }
 },
 "nbformat": 4,
 "nbformat_minor": 2
}
