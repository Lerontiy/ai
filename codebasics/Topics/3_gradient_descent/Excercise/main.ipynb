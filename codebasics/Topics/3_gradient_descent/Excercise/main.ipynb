{
 "cells": [
  {
   "cell_type": "code",
   "execution_count": 2,
   "metadata": {},
   "outputs": [
    {
     "name": "stderr",
     "output_type": "stream",
     "text": [
      "skl score| iterations: "
     ]
    },
    {
     "name": "stderr",
     "output_type": "stream",
     "text": [
      "110\n",
      "gd score| gd.score(x, y): 92.98112083751809\n",
      "skl score| gd.score(x, y): 92.8004264579133, gd.b: 1.9152193111568891\n"
     ]
    },
    {
     "name": "stdout",
     "output_type": "stream",
     "text": [
      "[98 68 81 80 83 52 66 30 68 73]\n"
     ]
    }
   ],
   "source": [
    "import numpy as np\n",
    "from sklearn.linear_model import LinearRegression\n",
    "\n",
    "from icecream import ic\n",
    "\n",
    "class GradientDescent:\n",
    "    def __init__(self):\n",
    "        self.m = self.b = 0\n",
    "\n",
    "    def train_using_gradient_descent(self, x,y):\n",
    "        n = len(x)\n",
    "        learning_rate = 0.00001\n",
    "        cost_prev = 0 \n",
    "        cost_curr = 1\n",
    "\n",
    "        iterations = 0\n",
    "\n",
    "        while cost_prev!=cost_curr:\n",
    "            cost_prev = cost_curr\n",
    "            y_predicted = self.m * x + self.b\n",
    "            cost_curr = (1/n) * sum(abs(y-y_predicted))\n",
    "\n",
    "            #ic(len(x), len(y-y_predicted))\n",
    "\n",
    "            md = -(2/n) * sum(x*(y-y_predicted))\n",
    "            bd = -(2/n) * sum(y-y_predicted)\n",
    "\n",
    "            self.m -= learning_rate * md\n",
    "            self.b -= learning_rate * bd\n",
    "\n",
    "            iterations+=1\n",
    "\n",
    "        ic(iterations)\n",
    "\n",
    "\n",
    "    def train_using_sklearn(self, x, y):\n",
    "        r = LinearRegression()\n",
    "        r.fit(x, y)\n",
    "\n",
    "        self.m = r.coef_[0]\n",
    "        self.b = r.intercept_\n",
    "\n",
    "    def predict(self, x):\n",
    "        #print(self.m * x + self.b)\n",
    "        return self.m * x + self.b\n",
    "        #return np.array([round((self.m * e + self.b), 8) for e in x])\n",
    "\n",
    "    def score(self, x, y):\n",
    "        y_score = self.predict(x)\n",
    "\n",
    "        for i in range(len(y)):\n",
    "            if y_score[i] > y[i]:\n",
    "                y_score[i] = y[i] - (y_score[i] - y[i])\n",
    "\n",
    "        return sum(100 / y * y_score / len(y))\n",
    "\n",
    "\n",
    "import pandas as pd\n",
    "df = pd.read_csv(\"test_scores.csv\")\n",
    "\n",
    "gd = GradientDescent()\n",
    "\n",
    "x = np.array(df[df.columns[1]])\n",
    "y = np.array(df[df.columns[2]])\n",
    "\n",
    "gd.train_using_gradient_descent(x, y)\n",
    "ic.configureOutput(prefix=\"gd score| \")\n",
    "ic(gd.score(x, y))\n",
    "\n",
    "gd.train_using_sklearn(x.reshape(-1, 1), y)\n",
    "ic.configureOutput(prefix=\"skl score| \")\n",
    "ic(gd.score(x, y), gd.b)\n",
    "\n",
    "print(y)"
   ]
  }
 ],
 "metadata": {
  "kernelspec": {
   "display_name": "venv",
   "language": "python",
   "name": "python3"
  },
  "language_info": {
   "codemirror_mode": {
    "name": "ipython",
    "version": 3
   },
   "file_extension": ".py",
   "mimetype": "text/x-python",
   "name": "python",
   "nbconvert_exporter": "python",
   "pygments_lexer": "ipython3",
   "version": "3.12.0"
  }
 },
 "nbformat": 4,
 "nbformat_minor": 2
}
